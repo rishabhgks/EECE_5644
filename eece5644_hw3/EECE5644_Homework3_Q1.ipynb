{
 "cells": [
  {
   "cell_type": "markdown",
   "metadata": {},
   "source": [
    "# Question 1 (50%)\n",
    "Conduct the following model order selection exercise using 10-fold cross-validation procedure\n",
    "and report your procedure and results in a comprehensive, convincing, and rigorous fashion:\n",
    "1. Select a Gaussian Mixture Model as the true probability density function for 2-dimensional\n",
    "real-valued data synthesis. This GMM will have 4 components with different mean vectors,\n",
    "different covariance matrices, and different probability for each Gaussian to be selected as\n",
    "the generator for each sample. Specify the true GMM that generates data.\n",
    "2. Generate multiple data sets with independent identically distributed samples using this true\n",
    "GMM; these datasets will have respectively 10, 100, 1000, 10000 samples.\n",
    "3. For each data set, using maximum likelihood parameter estimation principles (e.g. with the\n",
    "EM algorithm), within the framework of K(=10)-fold cross-validation, evaluate GMMs with\n",
    "different model orders; specifically evaluate candidate GMMs with 1, 2, 3, 4, 5, 6 Gaussian components. Note that both model parameter estimation and validation performance\n",
    "measures to be used is log-likelihood of data.\n",
    "4. Report your results for the experiment, indicating which of the six GMM orders get selected\n",
    "for each of the datasets you produced. Develop a good way to describe and summarize your\n",
    "experiment results in the form of tables/figures."
   ]
  },
  {
   "cell_type": "code",
   "execution_count": 1,
   "metadata": {},
   "outputs": [],
   "source": [
    "import numpy as np\n",
    "import copy\n",
    "from scipy.stats import multivariate_normal"
   ]
  },
  {
   "cell_type": "code",
   "execution_count": 2,
   "metadata": {},
   "outputs": [],
   "source": [
    "import math\n",
    "from scipy.linalg import sqrtm"
   ]
  },
  {
   "cell_type": "code",
   "execution_count": 205,
   "metadata": {},
   "outputs": [],
   "source": [
    "import matplotlib.pyplot as plt\n",
    "from matplotlib.colors import ListedColormap\n",
    "from sklearn.cluster import KMeans"
   ]
  },
  {
   "cell_type": "markdown",
   "metadata": {},
   "source": [
    "## 1. \n",
    "Select a Gaussian Mixture Model as the true probability density function for 2-dimensional real-valued data synthesis. This GMM will have 4 components with different mean vectors, different covariance matrices, and different probability for each Gaussian to be selected as the generator for each sample. Specify the true GMM that generates data.\n"
   ]
  },
  {
   "cell_type": "code",
   "execution_count": 156,
   "metadata": {},
   "outputs": [],
   "source": [
    "# Defining Mean and Covariance for 1st component\n",
    "def comp_one(size):\n",
    "    cov1 = np.array([[2.0, 0.0],\n",
    "                    [0.0, 2.0]])\n",
    "    mean1 = np.array([2.0, 2.0])\n",
    "    return np.random.multivariate_normal(mean=mean1, cov=cov1, size=size)"
   ]
  },
  {
   "cell_type": "code",
   "execution_count": 157,
   "metadata": {
    "scrolled": true
   },
   "outputs": [],
   "source": [
    "data1 = comp_one(100)"
   ]
  },
  {
   "cell_type": "code",
   "execution_count": 158,
   "metadata": {
    "scrolled": false
   },
   "outputs": [
    {
     "data": {
      "text/plain": [
       "<matplotlib.collections.PathCollection at 0x15524fe0898>"
      ]
     },
     "execution_count": 158,
     "metadata": {},
     "output_type": "execute_result"
    },
    {
     "data": {
      "image/png": "[encoded data removed]",
      "text/plain": [
       "<Figure size 432x288 with 1 Axes>"
      ]
     },
     "metadata": {
      "needs_background": "light"
     },
     "output_type": "display_data"
    }
   ],
   "source": [
    "%matplotlib inline\n",
    "plt.scatter(data1[:, 0], data1[:, 1])"
   ]
  },
  {
   "cell_type": "code",
   "execution_count": 159,
   "metadata": {},
   "outputs": [],
   "source": [
    "# Defining Mean and Covariance for 1st component\n",
    "def comp_two(size):\n",
    "    cov2 = np.array([[1.0, 0.5],\n",
    "                    [0.5, 1.0]])\n",
    "    mean2 = np.array([-4.0, 2.0])\n",
    "    return np.random.multivariate_normal(mean=mean2, cov=cov2, size=size)"
   ]
  },
  {
   "cell_type": "code",
   "execution_count": 160,
   "metadata": {
    "scrolled": true
   },
   "outputs": [],
   "source": [
    "data2 = comp_two(100)"
   ]
  },
  {
   "cell_type": "code",
   "execution_count": 161,
   "metadata": {
    "scrolled": true
   },
   "outputs": [
    {
     "data": {
      "text/plain": [
       "<matplotlib.collections.PathCollection at 0x155236f2f60>"
      ]
     },
     "execution_count": 161,
     "metadata": {},
     "output_type": "execute_result"
    },
    {
     "data": {
      "image/png": "[encoded data removed]",
      "text/plain": [
       "<Figure size 432x288 with 1 Axes>"
      ]
     },
     "metadata": {
      "needs_background": "light"
     },
     "output_type": "display_data"
    }
   ],
   "source": [
    "%matplotlib inline\n",
    "plt.scatter(data2[:, 0], data2[:, 1])"
   ]
  },
  {
   "cell_type": "code",
   "execution_count": 162,
   "metadata": {},
   "outputs": [],
   "source": [
    "# Defining Mean and Covariance for 1st component\n",
    "def comp_three(size):\n",
    "    cov3 = np.array([[2.5, 0.75],\n",
    "                    [0.75, 2.5]])\n",
    "    mean3 = np.array([3.0, -6.0])\n",
    "    return np.random.multivariate_normal(mean=mean3, cov=cov3, size=size)"
   ]
  },
  {
   "cell_type": "code",
   "execution_count": 163,
   "metadata": {
    "scrolled": true
   },
   "outputs": [],
   "source": [
    "data3 = comp_three(100)"
   ]
  },
  {
   "cell_type": "code",
   "execution_count": 164,
   "metadata": {
    "scrolled": false
   },
   "outputs": [
    {
     "data": {
      "text/plain": [
       "<matplotlib.collections.PathCollection at 0x15523753e10>"
      ]
     },
     "execution_count": 164,
     "metadata": {},
     "output_type": "execute_result"
    },
    {
     "data": {
      "image/png": "[encoded data removed]",
      "text/plain": [
       "<Figure size 432x288 with 1 Axes>"
      ]
     },
     "metadata": {
      "needs_background": "light"
     },
     "output_type": "display_data"
    }
   ],
   "source": [
    "%matplotlib inline\n",
    "plt.scatter(data3[:, 0], data3[:, 1])"
   ]
  },
  {
   "cell_type": "code",
   "execution_count": 175,
   "metadata": {},
   "outputs": [],
   "source": [
    "# Defining Mean and Covariance for 1st component\n",
    "def comp_four(size):\n",
    "    cov4 = np.array([[2.0, -0.5],\n",
    "                    [-0.5, 2.0]])\n",
    "    mean4 = np.array([-6.0, -6.0])\n",
    "    return np.random.multivariate_normal(mean=mean4, cov=cov4, size=size)"
   ]
  },
  {
   "cell_type": "code",
   "execution_count": 176,
   "metadata": {
    "scrolled": true
   },
   "outputs": [],
   "source": [
    "data4 = comp_four(100)"
   ]
  },
  {
   "cell_type": "code",
   "execution_count": 177,
   "metadata": {
    "scrolled": true
   },
   "outputs": [
    {
     "data": {
      "text/plain": [
       "<matplotlib.collections.PathCollection at 0x15524bf9630>"
      ]
     },
     "execution_count": 177,
     "metadata": {},
     "output_type": "execute_result"
    },
    {
     "data": {
      "image/png": "[encoded data removed]",
      "text/plain": [
       "<Figure size 432x288 with 1 Axes>"
      ]
     },
     "metadata": {
      "needs_background": "light"
     },
     "output_type": "display_data"
    }
   ],
   "source": [
    "%matplotlib inline\n",
    "plt.scatter(data4[:, 0], data4[:, 1])"
   ]
  },
  {
   "cell_type": "code",
   "execution_count": 178,
   "metadata": {},
   "outputs": [
    {
     "data": {
      "text/plain": [
       "Text(0.5, 1.0, 'Scatter Plot of the Bivariate Samples Made of 4 Different Gaussian Components')"
      ]
     },
     "execution_count": 178,
     "metadata": {},
     "output_type": "execute_result"
    },
    {
     "data": {
      "image/png": "[encoded data removed]",
      "text/plain": [
       "<Figure size 432x288 with 1 Axes>"
      ]
     },
     "metadata": {
      "needs_background": "light"
     },
     "output_type": "display_data"
    }
   ],
   "source": [
    "# Plotting both the samples as a scatter plot\n",
    "%matplotlib inline\n",
    "x1 = np.linspace(-6, 6, 100)\n",
    "plt.scatter(data1[:, 0], data1[:, 1], marker='^', label='Component 1', s=8)\n",
    "plt.scatter(data2[:, 0], data2[:, 1], marker='^', label='Component 2', s=8)\n",
    "plt.scatter(data3[:, 0], data3[:, 1], marker='^', label='Component 3', s=8)\n",
    "plt.scatter(data4[:, 0], data4[:, 1], marker='^', label='Component 4', s=8)\n",
    "plt.grid()\n",
    "plt.legend()\n",
    "plt.xlabel('X1 (First Dimension)')\n",
    "plt.ylabel('X2 (Second Dimension)')\n",
    "plt.title('Scatter Plot of the Bivariate Samples Made of 4 Different Gaussian Components')"
   ]
  },
  {
   "cell_type": "markdown",
   "metadata": {},
   "source": [
    "## 2.\n",
    "Generate multiple data sets with independent identically distributed samples using this true GMM; these datasets will have respectively 10, 100, 1000, 10000 samples."
   ]
  },
  {
   "cell_type": "code",
   "execution_count": 179,
   "metadata": {},
   "outputs": [],
   "source": [
    "# Assigning different priors to each component for all datasets\n",
    "# all priors need to add up to 1\n",
    "p1 = 0.1\n",
    "p2 = 0.4\n",
    "p3 = 0.2\n",
    "p4 = 0.3\n",
    "alpha_true = [p1, p2, p3, p4]"
   ]
  },
  {
   "cell_type": "code",
   "execution_count": 303,
   "metadata": {},
   "outputs": [],
   "source": [
    "# Defining our dataset generator function\n",
    "def dataset_generator(alpha, size):\n",
    "    uniform_dist = np.random.uniform(0, 1, size)\n",
    "    count = [0, 0, 0, 0]\n",
    "    for data in uniform_dist:\n",
    "        if data <= alpha[0]:\n",
    "            count[0] += 1\n",
    "        elif alpha[0] < data <= alpha[0] + alpha[1]:\n",
    "            count[1] += 1\n",
    "        elif alpha[0] + alpha[1] < data <= alpha[0] + alpha[1] + alpha[2]:\n",
    "            count[2] += 1\n",
    "        elif alpha[0] + alpha[1] + alpha[2] < data <= 1:\n",
    "            count[3] += 1\n",
    "    comp1_data = comp_one(count[0])\n",
    "    comp2_data = comp_two(count[1])\n",
    "    comp3_data = comp_three(count[2])\n",
    "    comp4_data = comp_four(count[3])\n",
    "    return np.vstack([comp1_data, comp2_data, comp3_data, comp4_data])\n",
    "        "
   ]
  },
  {
   "cell_type": "code",
   "execution_count": 304,
   "metadata": {},
   "outputs": [],
   "source": [
    "# Dataset 1: Sample Size = 10\n",
    "dataset1 = dataset_generator(alpha_true, 10)"
   ]
  },
  {
   "cell_type": "code",
   "execution_count": 305,
   "metadata": {
    "scrolled": true
   },
   "outputs": [
    {
     "data": {
      "text/plain": [
       "Text(0.5, 1.0, 'Scatter Plot of the Bivariate Samples Made of 4 Different Gaussian Components with size = 10')"
      ]
     },
     "execution_count": 305,
     "metadata": {},
     "output_type": "execute_result"
    },
    {
     "data": {
      "image/png": "[encoded data removed]",
      "text/plain": [
       "<Figure size 432x288 with 1 Axes>"
      ]
     },
     "metadata": {
      "needs_background": "light"
     },
     "output_type": "display_data"
    }
   ],
   "source": [
    "plt.scatter(dataset1[:, 0], dataset1[:, 1], s=8)\n",
    "plt.grid()\n",
    "# plt.legend()\n",
    "plt.xlabel('X1 (First Dimension)')\n",
    "plt.ylabel('X2 (Second Dimension)')\n",
    "plt.title('Scatter Plot of the Bivariate Samples Made of 4 Different Gaussian Components with size = 10')"
   ]
  },
  {
   "cell_type": "code",
   "execution_count": 183,
   "metadata": {},
   "outputs": [],
   "source": [
    "# Dataset 2: Sample Size = 100\n",
    "dataset2 = dataset_generator(alpha_true, 100)"
   ]
  },
  {
   "cell_type": "code",
   "execution_count": 184,
   "metadata": {},
   "outputs": [
    {
     "data": {
      "text/plain": [
       "Text(0.5, 1.0, 'Scatter Plot of the Bivariate Samples Made of 4 Different Gaussian Components with size = 100')"
      ]
     },
     "execution_count": 184,
     "metadata": {},
     "output_type": "execute_result"
    },
    {
     "data": {
      "image/png": "[encoded data removed]",
      "text/plain": [
       "<Figure size 432x288 with 1 Axes>"
      ]
     },
     "metadata": {
      "needs_background": "light"
     },
     "output_type": "display_data"
    }
   ],
   "source": [
    "plt.scatter(dataset2[:, 0], dataset2[:, 1], s=8)\n",
    "plt.grid()\n",
    "# plt.legend()\n",
    "plt.xlabel('X1 (First Dimension)')\n",
    "plt.ylabel('X2 (Second Dimension)')\n",
    "plt.title('Scatter Plot of the Bivariate Samples Made of 4 Different Gaussian Components with size = 100')"
   ]
  },
  {
   "cell_type": "code",
   "execution_count": 185,
   "metadata": {},
   "outputs": [],
   "source": [
    "# Dataset 3: Sample Size = 1000\n",
    "dataset3 = dataset_generator(alpha_true, 1000)"
   ]
  },
  {
   "cell_type": "code",
   "execution_count": 186,
   "metadata": {},
   "outputs": [
    {
     "data": {
      "text/plain": [
       "Text(0.5, 1.0, 'Scatter Plot of the Bivariate Samples Made of 4 Different Gaussian Components with size = 1000')"
      ]
     },
     "execution_count": 186,
     "metadata": {},
     "output_type": "execute_result"
    },
    {
     "data": {
      "image/png": "[encoded data removed]",
      "text/plain": [
       "<Figure size 432x288 with 1 Axes>"
      ]
     },
     "metadata": {
      "needs_background": "light"
     },
     "output_type": "display_data"
    }
   ],
   "source": [
    "plt.scatter(dataset3[:, 0], dataset3[:, 1], s=8)\n",
    "plt.grid()\n",
    "# plt.legend()\n",
    "plt.xlabel('X1 (First Dimension)')\n",
    "plt.ylabel('X2 (Second Dimension)')\n",
    "plt.title('Scatter Plot of the Bivariate Samples Made of 4 Different Gaussian Components with size = 1000')"
   ]
  },
  {
   "cell_type": "code",
   "execution_count": 187,
   "metadata": {},
   "outputs": [],
   "source": [
    "# Dataset 4: Sample Size = 10000\n",
    "dataset4 = dataset_generator(alpha_true, 10000)"
   ]
  },
  {
   "cell_type": "code",
   "execution_count": 188,
   "metadata": {},
   "outputs": [
    {
     "data": {
      "text/plain": [
       "Text(0.5, 1.0, 'Scatter Plot of the Bivariate Samples Made of 4 Different Gaussian Components with size = 10000')"
      ]
     },
     "execution_count": 188,
     "metadata": {},
     "output_type": "execute_result"
    },
    {
     "data": {
      "image/png": "[encoded data removed]",
      "text/plain": [
       "<Figure size 432x288 with 1 Axes>"
      ]
     },
     "metadata": {
      "needs_background": "light"
     },
     "output_type": "display_data"
    }
   ],
   "source": [
    "plt.scatter(dataset4[:, 0], dataset4[:, 1], s=6)\n",
    "plt.grid()\n",
    "# plt.legend()\n",
    "plt.xlabel('X1 (First Dimension)')\n",
    "plt.ylabel('X2 (Second Dimension)')\n",
    "plt.title('Scatter Plot of the Bivariate Samples Made of 4 Different Gaussian Components with size = 10000')"
   ]
  },
  {
   "cell_type": "markdown",
   "metadata": {},
   "source": [
    "Now we are done creating our dataset using a Gaussian Mixture Model with different number of samples.\n",
    "\n",
    "We will be using these datasets for our Model Order Selection Exercise"
   ]
  },
  {
   "cell_type": "markdown",
   "metadata": {},
   "source": [
    "## 3.\n",
    "For each data set, using maximum likelihood parameter estimation principles (e.g. with the\n",
    "EM algorithm), within the framework of K(=10)-fold cross-validation, evaluate GMMs with\n",
    "different model orders; specifically evaluate candidate GMMs with 1, 2, 3, 4, 5, 6 Gaussian components. Note that both model parameter estimation and validation performance\n",
    "measures to be used is log-likelihood of data."
   ]
  },
  {
   "cell_type": "code",
   "execution_count": 44,
   "metadata": {},
   "outputs": [],
   "source": [
    "# This function will return our posterior for the E step\n",
    "def return_posterior(x1, x2, mean1, cov1):\n",
    "#     print(\"Mean: {}  Cov: {}\".format(mean1, cov1), x1, x2)\n",
    "#     p_l = math.pow(2*math.pi, -1)*math.pow(np.linalg.det(cov1), -0.5)*math.exp((-0.5)*([x1, x2] - mean1).T.dot(np.linalg.inv(cov1)).dot([x1, x2] - mean1))\n",
    "    p_l = multivariate_normal(mean1, cov1, allow_singular=True)\n",
    "    return p_l.pdf([x1, x2])"
   ]
  },
  {
   "cell_type": "code",
   "execution_count": 28,
   "metadata": {},
   "outputs": [
    {
     "name": "stdout",
     "output_type": "stream",
     "text": [
      "Mean: [3.17327499 1.05507706]  Cov: [[ 0.23708953 -0.05470395]\n",
      " [-0.05470395  0.01262191]] 1 1\n"
     ]
    },
    {
     "data": {
      "text/plain": [
       "0.0"
      ]
     },
     "execution_count": 28,
     "metadata": {},
     "output_type": "execute_result"
    }
   ],
   "source": [
    "return_posterior(1, 1, np.array([3.17327499, 1.05507706]), np.array([[ 0.23708953, -0.05470395],\n",
    " [-0.05470395,  0.01262191]]))"
   ]
  },
  {
   "cell_type": "code",
   "execution_count": 38,
   "metadata": {},
   "outputs": [
    {
     "data": {
      "text/plain": [
       "0.0"
      ]
     },
     "execution_count": 38,
     "metadata": {},
     "output_type": "execute_result"
    }
   ],
   "source": [
    "from scipy.stats import multivariate_normal\n",
    "post_pdf = multivariate_normal(np.array([3.17327499, 1.05507706]), np.array([[ 0.23708953, -0.05470395],\n",
    " [-0.05470395,  0.01262191]]))\n",
    "post_pdf.pdf([1, 1])"
   ]
  },
  {
   "cell_type": "code",
   "execution_count": 203,
   "metadata": {},
   "outputs": [],
   "source": [
    "# This function will perform our E Step of the EM algorithm and accordingly provide us new list of posteriors for each sample\n",
    "# for the next iteration\n",
    "def e_step(parameters, dataset):\n",
    "    posterior_list = []\n",
    "    for (x1, x2) in dataset:\n",
    "        post_param = []\n",
    "        for (alpha, mean, cov) in parameters:\n",
    "            post_param.append(alpha*return_posterior(x1, x2, np.array(mean), np.array(cov)))\n",
    "        posterior_list.append(post_param)\n",
    "    return posterior_list"
   ]
  },
  {
   "cell_type": "code",
   "execution_count": 30,
   "metadata": {},
   "outputs": [],
   "source": [
    "# This function will perform our M Step of the EM algorithm and accordingly provide us new alpha, mean and covariance \n",
    "# for the next iteration\n",
    "def m_step(posterior_list, dataset):\n",
    "    newparameters = []\n",
    "    posterior_list = np.array(posterior_list)\n",
    "    for i in range(posterior_list.shape[1]):\n",
    "        alpha_new = sum(posterior_list[:, i]) / len(posterior_list[:, i])\n",
    "        mean_new = sum([np.array(dataset[j]) * posterior_list[j, i] for j in range(len(dataset))]) / sum(posterior_list[:, i])\n",
    "        cov_new = sum([np.matmul(np.array(dataset[j] - mean_new).reshape(2, 1),np.array(dataset[j] - mean_new).reshape(1, 2))\n",
    "                       * posterior_list[j, i] for j in range(len(dataset))]) / sum(posterior_list[:, i])\n",
    "        newparameters.append([alpha_new, mean_new, cov_new])\n",
    "    return newparameters"
   ]
  },
  {
   "cell_type": "code",
   "execution_count": 352,
   "metadata": {},
   "outputs": [],
   "source": [
    "def partition_data(dataset, partitions):\n",
    "    partition_width = len(dataset) / partitions\n",
    "    np.random.shuffle(dataset)\n",
    "    partitioned_dataset = []\n",
    "    for i in range(partitions):\n",
    "        partitioned_dataset.append(dataset[int(i*partition_width):int((i+1)*partition_width)])\n",
    "    return partitioned_dataset"
   ]
  },
  {
   "cell_type": "code",
   "execution_count": 149,
   "metadata": {},
   "outputs": [],
   "source": [
    "def is_converging(parameters):\n",
    "    if len(parameters) == 1:\n",
    "        return False\n",
    "    parameter1 = parameters[-1]\n",
    "    parameter2 = parameters[-2]\n",
    "    for i in range(np.array(parameter1).shape[0]):\n",
    "        if abs(parameter1[i][1][0] - parameter2[i][1][0]) < 0.001:\n",
    "            return True\n",
    "        elif abs(parameter1[i][1][1] - parameter2[i][1][1]) < 0.001:\n",
    "            return True\n",
    "    return False"
   ]
  },
  {
   "cell_type": "code",
   "execution_count": 33,
   "metadata": {},
   "outputs": [],
   "source": [
    "def initialize_parameters(order):\n",
    "    alpha = 0\n",
    "    mean = [0, 0]\n",
    "    cov = [[1, 0], [0, 1]]\n",
    "    base_parameter = []\n",
    "    for i in range(order):\n",
    "        base_parameter.append([alpha, mean, cov])\n",
    "    parameter_head = [base_parameter]\n",
    "    return parameter_head"
   ]
  },
  {
   "cell_type": "code",
   "execution_count": 34,
   "metadata": {},
   "outputs": [],
   "source": [
    "def randomize_training_start(parameters_list, order, dataset, N=1):\n",
    "    random_list = []\n",
    "    for i in range(N):\n",
    "        for j in range(order):\n",
    "            alpha = 1/order\n",
    "            mean = np.random.uniform(dataset.min(), dataset.max())\n",
    "            check = True\n",
    "            while check:\n",
    "                cov = (np.random.uniform(dataset.min(), dataset.max()))**2\n",
    "                check = not np.all(np.linalg.eigvalsh(np.array([[cov, 0], [0, cov]])) > 0)\n",
    "            parameters_list[0][j][0] = alpha\n",
    "            parameters_list[0][j][1] = [mean, mean]\n",
    "            parameters_list[0][j][2] = [[cov, 0], [0, cov]]\n",
    "        random_list.append(parameters_list)\n",
    "    return random_list"
   ]
  },
  {
   "cell_type": "code",
   "execution_count": 333,
   "metadata": {},
   "outputs": [],
   "source": [
    "def randomize_train_start_kmeans(order, dataset, N=1):\n",
    "    random_list = []\n",
    "    dataset = np.array(dataset)\n",
    "    for i in range(N):\n",
    "        alpha = np.zeros(order) + 1/order\n",
    "        k_means_model = KMeans(n_clusters=order).fit(dataset)\n",
    "        mean = np.array(k_means_model.cluster_centers_)\n",
    "        split_data = []\n",
    "        for i in range(order):\n",
    "            split_data.append([])\n",
    "        for j in range(len(dataset)):\n",
    "            split_data[k_means_model.labels_[j]].append(dataset[j].tolist())\n",
    "        cov = []\n",
    "        for i in range(order):\n",
    "            if len(split_data[i]) > 1:\n",
    "                cov.append(np.cov(np.array(split_data[i]).T))\n",
    "            else:\n",
    "                cov.append(np.array([[1, 0], [0, 1]]))      \n",
    "        random_list.append([[[al, me, co] for al, me, co in zip(alpha, mean, cov)]])\n",
    "    return random_list\n",
    "        "
   ]
  },
  {
   "cell_type": "code",
   "execution_count": 335,
   "metadata": {},
   "outputs": [
    {
     "data": {
      "text/plain": [
       "[[[0.3333333333333333,\n",
       "   array([-6.82304999, -6.28626508]),\n",
       "   array([[1.18926441, 0.82854308],\n",
       "          [0.82854308, 2.1664386 ]])],\n",
       "  [0.3333333333333333,\n",
       "   array([ 4.72419887, -3.83923272]),\n",
       "   array([[ 0.51054801, -4.58071509],\n",
       "          [-4.58071509, 41.09887862]])],\n",
       "  [0.3333333333333333,\n",
       "   array([-3.91323535,  1.37234273]),\n",
       "   array([[ 0.60843928, -0.12681588],\n",
       "          [-0.12681588,  0.9637397 ]])]]]"
      ]
     },
     "execution_count": 335,
     "metadata": {},
     "output_type": "execute_result"
    }
   ],
   "source": [
    "randomize_train_start_kmeans(3, dataset1)[0]"
   ]
  },
  {
   "cell_type": "code",
   "execution_count": 356,
   "metadata": {},
   "outputs": [],
   "source": [
    "def model_log_likelihood(dataset, parameters):\n",
    "    parameters = np.array(parameters)\n",
    "    log_likelihood = 0\n",
    "    for data in dataset:\n",
    "        likelihood = 0\n",
    "        for param in parameters:\n",
    "            likelihood += param[0]*multivariate_normal(param[1], param[2], allow_singular=True).pdf(data)\n",
    "        log_likelihood += np.log(likelihood)\n",
    "    return log_likelihood"
   ]
  },
  {
   "cell_type": "code",
   "execution_count": 367,
   "metadata": {},
   "outputs": [],
   "source": [
    "def k_fold_cross_validation(alpha, dataset_size=100, gmm_model_orders=[1, 2, 3, 4, 5, 6], k=10, N=1):\n",
    "#     paramaters_list = []\n",
    "    dataset = dataset_generator(alpha, dataset_size)\n",
    "    part_data = partition_data(dataset, k)\n",
    "    model_log_likelihood_list = []\n",
    "    model_best_param = []\n",
    "    for order in gmm_model_orders:\n",
    "        print('K-fold for Model order {}'.format(order))\n",
    "        parameters_list = initialize_parameters(order)\n",
    "#         random_list_of_parameters_list = randomize_training_start(parameters_list, order, dataset, N=1)\n",
    "        random_list_of_parameters_list = randomize_train_start_kmeans(order, dataset, N=N)\n",
    "        tot_log_likelihood_list = []\n",
    "        tot_fold_iter_param = []\n",
    "        for param_list in random_list_of_parameters_list:\n",
    "            log_likelihood_list = []\n",
    "            fold_iter_param = []\n",
    "            for i in range(k):\n",
    "                my_param_list = copy.deepcopy(param_list)\n",
    "                data = copy.deepcopy(part_data)\n",
    "                val_data = data.pop(i)\n",
    "                train_data = []\n",
    "                [train_data.extend(part) for part in data]\n",
    "                count = 0\n",
    "#               Training on the Model\n",
    "                while not is_converging(my_param_list):\n",
    "                    try:\n",
    "                        posterior_list = e_step(my_param_list[-1], train_data)\n",
    "                    except Exception as e:\n",
    "                        break\n",
    "#                     print(\"Posterior_list: \\n{}\".format(posterior_list))\n",
    "                    new_params = m_step(posterior_list, train_data)\n",
    "#                     print(\"New parameters after the step {} are \\n{}\".format(count+1, new_params))\n",
    "                    my_param_list.append(new_params)\n",
    "                    count += 1\n",
    "                print(\"finished after {} iterations\".format(count))\n",
    "#                 print(my_param_list[-1])\n",
    "#               Validating on the Model\n",
    "                log_likelihood_list.append(model_log_likelihood(dataset, my_param_list[-1]) \n",
    "                                           if not np.isinf(model_log_likelihood(dataset, my_param_list[-1])) else -10e+5)\n",
    "                fold_iter_param.append(my_param_list[-1])\n",
    "            tot_fold_iter_param.append(fold_iter_param)\n",
    "            tot_log_likelihood_list.append(log_likelihood_list)\n",
    "            max_list = [max(rand_log_lik_list) for rand_log_lik_list in tot_log_likelihood_list]\n",
    "            fold_iter_param = tot_fold_iter_param[max_list.index(max(max_list))]\n",
    "            log_likelihood_list = tot_log_likelihood_list[max_list.index(max(max_list))]\n",
    "        model_best_param.append(fold_iter_param[log_likelihood_list.index(max(log_likelihood_list))])\n",
    "        model_log_likelihood_list.append(sum(log_likelihood_list)/(dataset_size/k))\n",
    "    print(model_log_likelihood_list)\n",
    "    print(\"Model having the highest log likelihood is {}\".format(model_log_likelihood_list.index(max(model_log_likelihood_list)) + 1))\n",
    "    return model_log_likelihood_list, model_best_param, dataset"
   ]
  },
  {
   "cell_type": "code",
   "execution_count": 368,
   "metadata": {},
   "outputs": [
    {
     "name": "stdout",
     "output_type": "stream",
     "text": [
      "K-fold for Model order 1\n",
      "finished after 11 iterations\n"
     ]
    },
    {
     "name": "stderr",
     "output_type": "stream",
     "text": [
      "C:\\ProgramData\\Anaconda3\\lib\\site-packages\\ipykernel_launcher.py:8: RuntimeWarning: divide by zero encountered in log\n",
      "  \n"
     ]
    },
    {
     "name": "stdout",
     "output_type": "stream",
     "text": [
      "finished after 8 iterations\n",
      "finished after 15 iterations\n",
      "finished after 13 iterations\n",
      "finished after 18 iterations\n",
      "finished after 13 iterations\n",
      "finished after 9 iterations\n",
      "finished after 8 iterations\n",
      "finished after 14 iterations\n",
      "finished after 11 iterations\n",
      "K-fold for Model order 2\n",
      "finished after 6 iterations\n",
      "finished after 3 iterations\n",
      "finished after 13 iterations\n"
     ]
    },
    {
     "name": "stderr",
     "output_type": "stream",
     "text": [
      "C:\\ProgramData\\Anaconda3\\lib\\site-packages\\ipykernel_launcher.py:8: RuntimeWarning: divide by zero encountered in log\n",
      "  \n"
     ]
    },
    {
     "name": "stdout",
     "output_type": "stream",
     "text": [
      "finished after 8 iterations\n",
      "finished after 18 iterations\n",
      "finished after 7 iterations\n",
      "finished after 11 iterations\n",
      "finished after 4 iterations\n",
      "finished after 5 iterations\n",
      "finished after 17 iterations\n",
      "K-fold for Model order 3\n",
      "finished after 6 iterations\n",
      "finished after 11 iterations\n",
      "finished after 12 iterations\n",
      "finished after 8 iterations\n",
      "finished after 9 iterations\n",
      "finished after 7 iterations\n",
      "finished after 10 iterations\n",
      "finished after 10 iterations\n",
      "finished after 12 iterations\n",
      "finished after 28 iterations\n"
     ]
    },
    {
     "name": "stderr",
     "output_type": "stream",
     "text": [
      "C:\\ProgramData\\Anaconda3\\lib\\site-packages\\ipykernel_launcher.py:8: RuntimeWarning: divide by zero encountered in log\n",
      "  \n"
     ]
    },
    {
     "name": "stdout",
     "output_type": "stream",
     "text": [
      "K-fold for Model order 4\n",
      "finished after 8 iterations\n",
      "finished after 4 iterations\n",
      "finished after 12 iterations\n",
      "finished after 9 iterations\n",
      "finished after 9 iterations\n",
      "finished after 9 iterations\n",
      "finished after 2 iterations\n",
      "finished after 2 iterations\n",
      "finished after 2 iterations\n",
      "finished after 8 iterations\n",
      "K-fold for Model order 5\n",
      "finished after 4 iterations\n",
      "finished after 4 iterations\n",
      "finished after 2 iterations\n",
      "finished after 9 iterations\n",
      "finished after 15 iterations\n",
      "finished after 1 iterations\n",
      "finished after 2 iterations\n",
      "finished after 9 iterations\n",
      "finished after 3 iterations\n",
      "finished after 7 iterations\n",
      "K-fold for Model order 6\n",
      "finished after 13 iterations\n",
      "finished after 6 iterations\n",
      "finished after 9 iterations\n",
      "finished after 13 iterations\n",
      "finished after 15 iterations\n",
      "finished after 7 iterations\n",
      "finished after 7 iterations\n",
      "finished after 7 iterations\n",
      "finished after 6 iterations\n",
      "finished after 7 iterations\n",
      "[-100000.0, -40003.06399157874, -10005.516286503522, -3.912742241755426, -3.5304463402176567, -5.408914661472035]\n",
      "Model having the highest log likelihood is 5\n"
     ]
    }
   ],
   "source": [
    "a, b, data = k_fold_cross_validation(alpha_true, dataset_size=1000)"
   ]
  },
  {
   "cell_type": "code",
   "execution_count": 369,
   "metadata": {},
   "outputs": [
    {
     "data": {
      "text/plain": [
       "[[0.00044311805402705436,\n",
       "  array([-3.98760975,  2.04349256]),\n",
       "  array([[0.37718289, 0.1833325 ],\n",
       "         [0.1833325 , 0.36975146]])],\n",
       " [5.262721574088696e-05,\n",
       "  array([-5.89449311, -6.18265644]),\n",
       "  array([[ 0.60564802, -0.17160569],\n",
       "         [-0.17160569,  0.74837866]])],\n",
       " [1.2978470613213755e-05,\n",
       "  array([ 2.98861715, -6.04525526]),\n",
       "  array([[0.75458114, 0.15498708],\n",
       "         [0.15498708, 0.93230585]])],\n",
       " [5.030600645219104e-06,\n",
       "  array([2.24615584, 1.86629724]),\n",
       "  array([[0.52183001, 0.01696731],\n",
       "         [0.01696731, 0.6274706 ]])]]"
      ]
     },
     "execution_count": 369,
     "metadata": {},
     "output_type": "execute_result"
    }
   ],
   "source": [
    "b[3]"
   ]
  },
  {
   "cell_type": "code",
   "execution_count": 370,
   "metadata": {},
   "outputs": [
    {
     "data": {
      "text/plain": [
       "<matplotlib.collections.PathCollection at 0x1552e5ba438>"
      ]
     },
     "execution_count": 370,
     "metadata": {},
     "output_type": "execute_result"
    },
    {
     "data": {
      "image/png": "[encoded data removed]",
      "text/plain": [
       "<Figure size 432x288 with 1 Axes>"
      ]
     },
     "metadata": {
      "needs_background": "light"
     },
     "output_type": "display_data"
    }
   ],
   "source": [
    "plt.scatter([1,2,3,4,5,6], a)"
   ]
  },
  {
   "cell_type": "code",
   "execution_count": 358,
   "metadata": {},
   "outputs": [
    {
     "name": "stdout",
     "output_type": "stream",
     "text": [
      "K-fold for Model order 1\n",
      "finished after 32 iterations\n"
     ]
    },
    {
     "name": "stderr",
     "output_type": "stream",
     "text": [
      "C:\\ProgramData\\Anaconda3\\lib\\site-packages\\ipykernel_launcher.py:8: RuntimeWarning: divide by zero encountered in log\n",
      "  \n"
     ]
    },
    {
     "name": "stdout",
     "output_type": "stream",
     "text": [
      "finished after 20 iterations\n",
      "finished after 19 iterations\n",
      "finished after 17 iterations\n",
      "finished after 20 iterations\n",
      "finished after 20 iterations\n",
      "finished after 20 iterations\n",
      "finished after 21 iterations\n",
      "finished after 24 iterations\n",
      "finished after 30 iterations\n",
      "finished after 32 iterations\n",
      "finished after 20 iterations\n",
      "finished after 19 iterations\n",
      "finished after 17 iterations\n",
      "finished after 20 iterations\n",
      "finished after 20 iterations\n",
      "finished after 20 iterations\n",
      "finished after 21 iterations\n",
      "finished after 24 iterations\n",
      "finished after 30 iterations\n",
      "finished after 32 iterations\n",
      "finished after 20 iterations\n",
      "finished after 19 iterations\n",
      "finished after 17 iterations\n",
      "finished after 20 iterations\n",
      "finished after 20 iterations\n",
      "finished after 20 iterations\n",
      "finished after 21 iterations\n",
      "finished after 24 iterations\n",
      "finished after 30 iterations\n",
      "finished after 32 iterations\n",
      "finished after 20 iterations\n",
      "finished after 19 iterations\n",
      "finished after 17 iterations\n",
      "finished after 20 iterations\n",
      "finished after 20 iterations\n",
      "finished after 20 iterations\n",
      "finished after 21 iterations\n",
      "finished after 24 iterations\n",
      "finished after 30 iterations\n",
      "finished after 32 iterations\n",
      "finished after 20 iterations\n",
      "finished after 19 iterations\n",
      "finished after 17 iterations\n",
      "finished after 20 iterations\n",
      "finished after 20 iterations\n",
      "finished after 20 iterations\n",
      "finished after 21 iterations\n",
      "finished after 24 iterations\n",
      "finished after 30 iterations\n",
      "K-fold for Model order 2\n",
      "finished after 15 iterations\n",
      "finished after 5 iterations\n"
     ]
    },
    {
     "name": "stderr",
     "output_type": "stream",
     "text": [
      "C:\\ProgramData\\Anaconda3\\lib\\site-packages\\ipykernel_launcher.py:8: RuntimeWarning: divide by zero encountered in log\n",
      "  \n"
     ]
    },
    {
     "name": "stdout",
     "output_type": "stream",
     "text": [
      "finished after 15 iterations\n",
      "finished after 15 iterations\n",
      "finished after 17 iterations\n",
      "finished after 2 iterations\n",
      "finished after 6 iterations\n",
      "finished after 7 iterations\n",
      "finished after 11 iterations\n",
      "finished after 15 iterations\n",
      "finished after 15 iterations\n",
      "finished after 5 iterations\n",
      "finished after 15 iterations\n",
      "finished after 15 iterations\n",
      "finished after 17 iterations\n",
      "finished after 2 iterations\n",
      "finished after 6 iterations\n",
      "finished after 7 iterations\n",
      "finished after 11 iterations\n",
      "finished after 15 iterations\n",
      "finished after 15 iterations\n",
      "finished after 5 iterations\n",
      "finished after 15 iterations\n",
      "finished after 15 iterations\n",
      "finished after 17 iterations\n",
      "finished after 2 iterations\n",
      "finished after 6 iterations\n",
      "finished after 7 iterations\n",
      "finished after 11 iterations\n",
      "finished after 15 iterations\n",
      "finished after 15 iterations\n",
      "finished after 5 iterations\n",
      "finished after 15 iterations\n",
      "finished after 15 iterations\n",
      "finished after 17 iterations\n",
      "finished after 2 iterations\n",
      "finished after 6 iterations\n",
      "finished after 7 iterations\n",
      "finished after 11 iterations\n",
      "finished after 15 iterations\n",
      "finished after 15 iterations\n",
      "finished after 5 iterations\n",
      "finished after 15 iterations\n",
      "finished after 15 iterations\n",
      "finished after 17 iterations\n",
      "finished after 2 iterations\n",
      "finished after 6 iterations\n",
      "finished after 7 iterations\n",
      "finished after 11 iterations\n",
      "finished after 15 iterations\n",
      "K-fold for Model order 3\n",
      "finished after 10 iterations\n"
     ]
    },
    {
     "name": "stderr",
     "output_type": "stream",
     "text": [
      "C:\\ProgramData\\Anaconda3\\lib\\site-packages\\ipykernel_launcher.py:8: RuntimeWarning: divide by zero encountered in log\n",
      "  \n"
     ]
    },
    {
     "name": "stdout",
     "output_type": "stream",
     "text": [
      "finished after 9 iterations\n",
      "finished after 12 iterations\n",
      "finished after 10 iterations\n",
      "finished after 4 iterations\n",
      "finished after 5 iterations\n",
      "finished after 11 iterations\n",
      "finished after 12 iterations\n",
      "finished after 9 iterations\n",
      "finished after 11 iterations\n",
      "finished after 10 iterations\n",
      "finished after 9 iterations\n",
      "finished after 12 iterations\n",
      "finished after 10 iterations\n",
      "finished after 4 iterations\n",
      "finished after 5 iterations\n",
      "finished after 11 iterations\n",
      "finished after 12 iterations\n",
      "finished after 9 iterations\n",
      "finished after 11 iterations\n",
      "finished after 10 iterations\n",
      "finished after 9 iterations\n",
      "finished after 12 iterations\n",
      "finished after 10 iterations\n",
      "finished after 4 iterations\n",
      "finished after 5 iterations\n",
      "finished after 11 iterations\n",
      "finished after 12 iterations\n",
      "finished after 9 iterations\n",
      "finished after 11 iterations\n",
      "finished after 10 iterations\n",
      "finished after 9 iterations\n",
      "finished after 12 iterations\n",
      "finished after 10 iterations\n",
      "finished after 4 iterations\n",
      "finished after 5 iterations\n",
      "finished after 11 iterations\n",
      "finished after 12 iterations\n",
      "finished after 9 iterations\n",
      "finished after 11 iterations\n",
      "finished after 10 iterations\n",
      "finished after 9 iterations\n",
      "finished after 12 iterations\n",
      "finished after 10 iterations\n",
      "finished after 4 iterations\n",
      "finished after 5 iterations\n",
      "finished after 11 iterations\n",
      "finished after 12 iterations\n",
      "finished after 9 iterations\n",
      "finished after 11 iterations\n",
      "K-fold for Model order 4\n",
      "finished after 10 iterations\n",
      "finished after 1 iterations\n"
     ]
    },
    {
     "name": "stderr",
     "output_type": "stream",
     "text": [
      "C:\\ProgramData\\Anaconda3\\lib\\site-packages\\ipykernel_launcher.py:8: RuntimeWarning: divide by zero encountered in log\n",
      "  \n"
     ]
    },
    {
     "name": "stdout",
     "output_type": "stream",
     "text": [
      "finished after 12 iterations\n",
      "finished after 11 iterations\n",
      "finished after 9 iterations\n",
      "finished after 1 iterations\n",
      "finished after 2 iterations\n",
      "finished after 4 iterations\n",
      "finished after 9 iterations\n",
      "finished after 11 iterations\n",
      "finished after 10 iterations\n",
      "finished after 1 iterations\n",
      "finished after 12 iterations\n",
      "finished after 11 iterations\n",
      "finished after 9 iterations\n",
      "finished after 1 iterations\n",
      "finished after 2 iterations\n",
      "finished after 4 iterations\n",
      "finished after 9 iterations\n",
      "finished after 11 iterations\n",
      "finished after 10 iterations\n",
      "finished after 1 iterations\n",
      "finished after 12 iterations\n",
      "finished after 11 iterations\n",
      "finished after 9 iterations\n",
      "finished after 1 iterations\n",
      "finished after 2 iterations\n",
      "finished after 4 iterations\n",
      "finished after 9 iterations\n",
      "finished after 11 iterations\n",
      "finished after 10 iterations\n",
      "finished after 1 iterations\n",
      "finished after 12 iterations\n",
      "finished after 11 iterations\n",
      "finished after 9 iterations\n",
      "finished after 1 iterations\n",
      "finished after 2 iterations\n",
      "finished after 4 iterations\n",
      "finished after 9 iterations\n",
      "finished after 11 iterations\n",
      "finished after 10 iterations\n",
      "finished after 1 iterations\n",
      "finished after 12 iterations\n",
      "finished after 11 iterations\n",
      "finished after 9 iterations\n",
      "finished after 1 iterations\n",
      "finished after 2 iterations\n",
      "finished after 4 iterations\n",
      "finished after 9 iterations\n",
      "finished after 11 iterations\n",
      "K-fold for Model order 5\n",
      "finished after 10 iterations\n",
      "finished after 1 iterations\n",
      "finished after 1 iterations\n",
      "finished after 11 iterations\n"
     ]
    },
    {
     "name": "stderr",
     "output_type": "stream",
     "text": [
      "C:\\ProgramData\\Anaconda3\\lib\\site-packages\\ipykernel_launcher.py:8: RuntimeWarning: divide by zero encountered in log\n",
      "  \n"
     ]
    },
    {
     "name": "stdout",
     "output_type": "stream",
     "text": [
      "finished after 7 iterations\n",
      "finished after 1 iterations\n",
      "finished after 1 iterations\n",
      "finished after 4 iterations\n",
      "finished after 9 iterations\n",
      "finished after 7 iterations\n",
      "finished after 7 iterations\n",
      "finished after 1 iterations\n",
      "finished after 5 iterations\n",
      "finished after 5 iterations\n",
      "finished after 6 iterations\n",
      "finished after 1 iterations\n",
      "finished after 2 iterations\n",
      "finished after 4 iterations\n",
      "finished after 5 iterations\n",
      "finished after 6 iterations\n",
      "finished after 10 iterations\n",
      "finished after 1 iterations\n",
      "finished after 1 iterations\n",
      "finished after 11 iterations\n",
      "finished after 7 iterations\n",
      "finished after 1 iterations\n",
      "finished after 1 iterations\n",
      "finished after 4 iterations\n",
      "finished after 9 iterations\n",
      "finished after 7 iterations\n",
      "finished after 10 iterations\n",
      "finished after 1 iterations\n",
      "finished after 1 iterations\n",
      "finished after 11 iterations\n",
      "finished after 7 iterations\n",
      "finished after 1 iterations\n",
      "finished after 1 iterations\n",
      "finished after 4 iterations\n",
      "finished after 9 iterations\n",
      "finished after 7 iterations\n",
      "finished after 10 iterations\n",
      "finished after 1 iterations\n",
      "finished after 1 iterations\n",
      "finished after 11 iterations\n",
      "finished after 7 iterations\n",
      "finished after 1 iterations\n",
      "finished after 1 iterations\n",
      "finished after 4 iterations\n",
      "finished after 9 iterations\n",
      "finished after 7 iterations\n",
      "K-fold for Model order 6\n",
      "finished after 8 iterations\n",
      "finished after 1 iterations\n",
      "finished after 1 iterations\n",
      "finished after 9 iterations\n",
      "finished after 7 iterations\n",
      "finished after 1 iterations\n",
      "finished after 1 iterations\n",
      "finished after 4 iterations\n",
      "finished after 10 iterations\n",
      "finished after 7 iterations\n",
      "finished after 8 iterations\n",
      "finished after 1 iterations\n",
      "finished after 1 iterations\n",
      "finished after 9 iterations\n"
     ]
    },
    {
     "name": "stderr",
     "output_type": "stream",
     "text": [
      "C:\\ProgramData\\Anaconda3\\lib\\site-packages\\ipykernel_launcher.py:8: RuntimeWarning: divide by zero encountered in log\n",
      "  \n"
     ]
    },
    {
     "name": "stdout",
     "output_type": "stream",
     "text": [
      "finished after 7 iterations\n",
      "finished after 1 iterations\n",
      "finished after 1 iterations\n",
      "finished after 4 iterations\n",
      "finished after 12 iterations\n",
      "finished after 7 iterations\n",
      "finished after 10 iterations\n",
      "finished after 1 iterations\n",
      "finished after 4 iterations\n",
      "finished after 2 iterations\n",
      "finished after 2 iterations\n",
      "finished after 1 iterations\n",
      "finished after 1 iterations\n",
      "finished after 4 iterations\n",
      "finished after 9 iterations\n",
      "finished after 8 iterations\n",
      "finished after 7 iterations\n",
      "finished after 1 iterations\n",
      "finished after 5 iterations\n",
      "finished after 5 iterations\n",
      "finished after 6 iterations\n",
      "finished after 1 iterations\n",
      "finished after 2 iterations\n",
      "finished after 4 iterations\n",
      "finished after 5 iterations\n",
      "finished after 6 iterations\n",
      "finished after 8 iterations\n",
      "finished after 1 iterations\n",
      "finished after 1 iterations\n",
      "finished after 9 iterations\n",
      "finished after 7 iterations\n",
      "finished after 1 iterations\n",
      "finished after 1 iterations\n",
      "finished after 4 iterations\n",
      "finished after 12 iterations\n",
      "finished after 7 iterations\n",
      "[-10000000.0, -7000185.335094631, -7000180.68634396, -5000123.201051399, -291.39440166766434, -1000287.5044133489]\n",
      "Model having the highest log likelihood is 5\n"
     ]
    }
   ],
   "source": [
    "a2, b2, data2 = k_fold_cross_validation(alpha_true, dataset_size=100, N=5)"
   ]
  },
  {
   "cell_type": "code",
   "execution_count": 359,
   "metadata": {},
   "outputs": [
    {
     "data": {
      "text/plain": [
       "<matplotlib.collections.PathCollection at 0x1552e48b2b0>"
      ]
     },
     "execution_count": 359,
     "metadata": {},
     "output_type": "execute_result"
    },
    {
     "data": {
      "image/png": "[encoded data removed]",
      "text/plain": [
       "<Figure size 432x288 with 1 Axes>"
      ]
     },
     "metadata": {
      "needs_background": "light"
     },
     "output_type": "display_data"
    }
   ],
   "source": [
    "plt.scatter([1,2,3,4,5,6], a2)"
   ]
  },
  {
   "cell_type": "code",
   "execution_count": null,
   "metadata": {},
   "outputs": [],
   "source": []
  },
  {
   "cell_type": "code",
   "execution_count": 134,
   "metadata": {},
   "outputs": [],
   "source": [
    "from matplotlib.patches import Ellipse\n",
    "\n",
    "def draw_ellipse(mean, covariance, ax=None, **kwargs):\n",
    "    \"\"\"Draw an ellipse with a given position and covariance\"\"\"\n",
    "    ax = ax or plt.gca()\n",
    "    \n",
    "    # Convert covariance to principal axes\n",
    "    if covariance.shape == (2, 2):\n",
    "        U, s, Vt = np.linalg.svd(covariance)\n",
    "        angle = np.degrees(np.arctan2(U[1, 0], U[0, 0]))\n",
    "        width, height = 2 * np.sqrt(s)\n",
    "    else:\n",
    "        angle = 0\n",
    "        width, height = 2 * np.sqrt(covariance)\n",
    "    \n",
    "    # Draw the Ellipse\n",
    "    for nsig in range(1, 4):\n",
    "        ax.add_patch(Ellipse(mean, nsig * width, nsig * height,\n",
    "                             angle, **kwargs, fill=True))\n",
    "        \n",
    "def plot_gmm(gmm, X, label=True, ax=None):\n",
    "    ax = ax or plt.gca()\n",
    "    ax.scatter(X[:, 0], X[:, 1], s=5, zorder=2)\n",
    "    ax.axis('equal')\n",
    "    for alpha, mean, covar in gmm:\n",
    "        draw_ellipse(mean, covar, alpha=alpha)"
   ]
  },
  {
   "cell_type": "code",
   "execution_count": 199,
   "metadata": {},
   "outputs": [
    {
     "data": {
      "image/png": "[encoded data removed]",
      "text/plain": [
       "<Figure size 432x288 with 1 Axes>"
      ]
     },
     "metadata": {
      "needs_background": "light"
     },
     "output_type": "display_data"
    }
   ],
   "source": [
    "%matplotlib inline\n",
    "plot_gmm(best_model_parameters2_2[2], dataset2_2)"
   ]
  },
  {
   "cell_type": "code",
   "execution_count": null,
   "metadata": {},
   "outputs": [],
   "source": []
  }
 ],
 "metadata": {
  "kernelspec": {
   "display_name": "Python 3",
   "language": "python",
   "name": "python3"
  },
  "language_info": {
   "codemirror_mode": {
    "name": "ipython",
    "version": 3
   },
   "file_extension": ".py",
   "mimetype": "text/x-python",
   "name": "python",
   "nbconvert_exporter": "python",
   "pygments_lexer": "ipython3",
   "version": "3.7.3"
  }
 },
 "nbformat": 4,
 "nbformat_minor": 2
}
